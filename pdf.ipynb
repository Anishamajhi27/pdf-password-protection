{
 "cells": [
  {
   "cell_type": "code",
   "execution_count": 1,
   "id": "8a34da5f",
   "metadata": {},
   "outputs": [
    {
     "name": "stdout",
     "output_type": "stream",
     "text": [
      "Collecting PyPDF2==1.26.0\n",
      "  Using cached PyPDF2-1.26.0.tar.gz (77 kB)\n",
      "  Preparing metadata (setup.py): started\n",
      "  Preparing metadata (setup.py): finished with status 'done'\n",
      "Building wheels for collected packages: PyPDF2\n",
      "  Building wheel for PyPDF2 (setup.py): started\n",
      "  Building wheel for PyPDF2 (setup.py): finished with status 'done'\n",
      "  Created wheel for PyPDF2: filename=PyPDF2-1.26.0-py3-none-any.whl size=61093 sha256=84c9ffa8daefd63d1611646f6791459e384499652969c04b1d069d7b0fb4f252\n",
      "  Stored in directory: c:\\users\\anisha majhi\\appdata\\local\\pip\\cache\\wheels\\e3\\3f\\b5\\99345942cc85940dc1e46cac0dbb733282a5775402abdc0a9c\n",
      "Successfully built PyPDF2\n",
      "Installing collected packages: PyPDF2\n",
      "Successfully installed PyPDF2-1.26.0\n"
     ]
    }
   ],
   "source": [
    "!pip install PyPDF2==1.26.0"
   ]
  },
  {
   "cell_type": "code",
   "execution_count": 1,
   "id": "ebd6a657",
   "metadata": {},
   "outputs": [],
   "source": [
    "from PyPDF2 import PdfFileReader,PdfFileWriter"
   ]
  },
  {
   "cell_type": "code",
   "execution_count": 2,
   "id": "da205c37",
   "metadata": {},
   "outputs": [
    {
     "data": {
      "text/plain": [
       "<PyPDF2.pdf.PdfFileReader at 0x1c9a636d848>"
      ]
     },
     "execution_count": 2,
     "metadata": {},
     "output_type": "execute_result"
    }
   ],
   "source": [
    "### open the current pdf\n",
    "file_pdf = PdfFileReader('anishamajhi.pdf')\n",
    "file_pdf"
   ]
  },
  {
   "cell_type": "code",
   "execution_count": 5,
   "id": "fd90a42f",
   "metadata": {},
   "outputs": [],
   "source": [
    "####object for pdf writer\n",
    "out_pdf = PdfFileWriter()"
   ]
  },
  {
   "cell_type": "code",
   "execution_count": 6,
   "id": "fddc9bab",
   "metadata": {},
   "outputs": [],
   "source": [
    "for i in range(file_pdf.numPages):\n",
    "    page_details = file_pdf.getPage(i)\n",
    "    ### add to the output page\n",
    "    out_pdf.addPage(page_details)"
   ]
  },
  {
   "cell_type": "code",
   "execution_count": 7,
   "id": "dcec5db5",
   "metadata": {},
   "outputs": [
    {
     "name": "stdout",
     "output_type": "stream",
     "text": [
      "enter your password: Anisha$2004\n"
     ]
    }
   ],
   "source": [
    "password = input(\"enter your password: \")"
   ]
  },
  {
   "cell_type": "code",
   "execution_count": 8,
   "id": "4458b559",
   "metadata": {},
   "outputs": [],
   "source": [
    "out_pdf.encrypt(password)"
   ]
  },
  {
   "cell_type": "code",
   "execution_count": 9,
   "id": "bf32ab8b",
   "metadata": {},
   "outputs": [],
   "source": [
    "with open('encripter1.pdf','wb') as filename:\n",
    "    out_pdf.write(filename)"
   ]
  },
  {
   "cell_type": "code",
   "execution_count": null,
   "id": "259adcda",
   "metadata": {},
   "outputs": [],
   "source": []
  }
 ],
 "metadata": {
  "kernelspec": {
   "display_name": "Python 3 (ipykernel)",
   "language": "python",
   "name": "python3"
  },
  "language_info": {
   "codemirror_mode": {
    "name": "ipython",
    "version": 3
   },
   "file_extension": ".py",
   "mimetype": "text/x-python",
   "name": "python",
   "nbconvert_exporter": "python",
   "pygments_lexer": "ipython3",
   "version": "3.7.16"
  }
 },
 "nbformat": 4,
 "nbformat_minor": 5
}
